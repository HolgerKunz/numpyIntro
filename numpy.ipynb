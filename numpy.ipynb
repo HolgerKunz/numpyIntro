{
 "cells": [
  {
   "cell_type": "markdown",
   "metadata": {},
   "source": [
    "## Imperial College London\n",
    "# Research Computing Summer School 2018"
   ]
  },
  {
   "cell_type": "markdown",
   "metadata": {
    "slideshow": {
     "slide_type": "slide"
    }
   },
   "source": [
    "\n",
    "# NumPy  (and a little bit of SciPy)\n",
    "\n",
    "## Presenter: Nicolas Barral"
   ]
  },
  {
   "cell_type": "markdown",
   "metadata": {},
   "source": [
    "## Learning objectives\n",
    "\n",
    "  * Learn what numpy arrays are\n",
    "  * Learn basic array manipulations\n",
    "  * Learn what vectorial code is\n",
    "  * A few more advanced features\n",
    "  * Quick overview of SciPy"
   ]
  },
  {
   "cell_type": "markdown",
   "metadata": {},
   "source": [
    "## SciPy ecosystem\n",
    "\n",
    "From their [website](https://scipy.org):\n",
    "> SciPy (pronounced “Sigh Pie”) is a Python-based ecosystem of open-source software for mathematics, science, and engineering. In particular, these are some of the core packages:\n",
    ">  * NumPy\n",
    ">  * SciPy library\n",
    ">  * Matplotlib \n",
    ">  * IPython\n",
    ">  * Sympy\n",
    ">  * Pandas"
   ]
  },
  {
   "cell_type": "markdown",
   "metadata": {
    "slideshow": {
     "slide_type": "slide"
    }
   },
   "source": [
    "## Introducing NumPy\n",
    "\n",
    "* NumPy supports:\n",
    "\n",
    "  * Multidimensional arrays (`ndarray`)\n",
    "  * Matrices and linear algebra operations\n",
    "  * Random number generation\n",
    "  * Fourier transforms\n",
    "  * Polynomials\n",
    "  * Tools for integrating with Fortran/C\n",
    "  \n",
    "* NumPy provides fast precompiled functions for numerical routines\n",
    "\n",
    "\n",
    "* https://www.numpy.org/\n"
   ]
  },
  {
   "cell_type": "markdown",
   "metadata": {
    "slideshow": {
     "slide_type": "slide"
    }
   },
   "source": [
    "## NumPy Arrays overview\n",
    "\n",
    "* Core (or Standard) Python Library provides lists and 1d arrays (array.array)\n",
    "\n",
    "  * Lists are general containers for objects\n",
    "  * Arrays are 1d containers for objects of the same type\n",
    "  * Limited functionality\n",
    "  * Some memory and performance overhead associated with these structures\n",
    "\n",
    "\n",
    "* NumPy provides multidimensional arrays (numpy.ndarray)\n",
    "  * Can store many elements of the same data type in multiple dimensions\n",
    "  * cf. Fortran/C/C++ arrays\n",
    "  * More functionality than Core Python e.g. many conveninent methods for array manipulation\n",
    "  * Efficient storage and execution\n",
    "\n",
    "See, e.g.,\n",
    "* http://docs.scipy.org/doc/numpy-1.10.0/reference/generated/numpy.ndarray.html\n",
    "<br>\n",
    "<br>"
   ]
  },
  {
   "cell_type": "markdown",
   "metadata": {
    "slideshow": {
     "slide_type": "slide"
    }
   },
   "source": [
    "## Creating 1d arrays\n",
    "\n",
    "<br>\n",
    "Import `numpy` as <i>alias</i> \"np\""
   ]
  },
  {
   "cell_type": "code",
   "execution_count": 18,
   "metadata": {
    "collapsed": true,
    "slideshow": {
     "slide_type": "-"
    }
   },
   "outputs": [],
   "source": [
    "import numpy as np"
   ]
  },
  {
   "cell_type": "markdown",
   "metadata": {},
   "source": [
    "There are many ways to create 1d array e.g. from a list"
   ]
  },
  {
   "cell_type": "code",
   "execution_count": 3,
   "metadata": {
    "slideshow": {
     "slide_type": "-"
    }
   },
   "outputs": [
    {
     "name": "stdout",
     "output_type": "stream",
     "text": [
      "[-1  0  1]\n"
     ]
    }
   ],
   "source": [
    "a = np.array([-1, 0, 1])\n",
    "print(a)"
   ]
  },
  {
   "cell_type": "markdown",
   "metadata": {},
   "source": [
    "Or from other arrays (\"copy constructor\")"
   ]
  },
  {
   "cell_type": "code",
   "execution_count": 4,
   "metadata": {
    "slideshow": {
     "slide_type": "-"
    }
   },
   "outputs": [
    {
     "name": "stdout",
     "output_type": "stream",
     "text": [
      "[-1  0  1]\n"
     ]
    }
   ],
   "source": [
    "b = np.array(a)\n",
    "print(b)"
   ]
  },
  {
   "cell_type": "markdown",
   "metadata": {},
   "source": [
    "All Numpy arrays are of type '`ndarray`'"
   ]
  },
  {
   "cell_type": "code",
   "execution_count": 5,
   "metadata": {},
   "outputs": [
    {
     "data": {
      "text/plain": [
       "numpy.ndarray"
      ]
     },
     "execution_count": 5,
     "metadata": {},
     "output_type": "execute_result"
    }
   ],
   "source": [
    "type(b)"
   ]
  },
  {
   "cell_type": "markdown",
   "metadata": {
    "slideshow": {
     "slide_type": "subslide"
    }
   },
   "source": [
    "Arrays can be created using `numpy` functions, e.g."
   ]
  },
  {
   "cell_type": "code",
   "execution_count": 6,
   "metadata": {
    "slideshow": {
     "slide_type": "-"
    }
   },
   "outputs": [
    {
     "name": "stdout",
     "output_type": "stream",
     "text": [
      "[-2  0  2  4]\n"
     ]
    }
   ],
   "source": [
    "# arange for arrays (like using range for lists)\n",
    "a = np.arange( -2, 6, 2 )\n",
    "print(a)"
   ]
  },
  {
   "cell_type": "code",
   "execution_count": 7,
   "metadata": {
    "slideshow": {
     "slide_type": "-"
    }
   },
   "outputs": [
    {
     "name": "stdout",
     "output_type": "stream",
     "text": [
      "[-10.  -5.   0.   5.  10.]\n"
     ]
    }
   ],
   "source": [
    "# linspace to create sample step points in an interval\n",
    "a = np.linspace(-10, 10, 5) \n",
    "print(a)"
   ]
  },
  {
   "cell_type": "markdown",
   "metadata": {},
   "source": [
    "### <span style=\"color:blue\">Exercice </span>\n",
    "Can you guess what the following functions do?"
   ]
  },
  {
   "cell_type": "code",
   "execution_count": 8,
   "metadata": {
    "slideshow": {
     "slide_type": "-"
    }
   },
   "outputs": [
    {
     "name": "stdout",
     "output_type": "stream",
     "text": [
      "[ 0.  0.  0.]\n"
     ]
    }
   ],
   "source": [
    "b = np.zeros(3)\n",
    "print(b)"
   ]
  },
  {
   "cell_type": "code",
   "execution_count": 9,
   "metadata": {
    "slideshow": {
     "slide_type": "-"
    }
   },
   "outputs": [
    {
     "name": "stdout",
     "output_type": "stream",
     "text": [
      "[ 1.  1.  1.]\n"
     ]
    }
   ],
   "source": [
    "c = np.ones(3)\n",
    "print(c)"
   ]
  },
  {
   "cell_type": "code",
   "execution_count": 10,
   "metadata": {},
   "outputs": [
    {
     "name": "stdout",
     "output_type": "stream",
     "text": [
      "[[ 1.  0.  0.]\n",
      " [ 0.  1.  0.]\n",
      " [ 0.  0.  1.]]\n"
     ]
    }
   ],
   "source": [
    "d = np.eye(3)\n",
    "print(d)"
   ]
  },
  {
   "cell_type": "markdown",
   "metadata": {
    "slideshow": {
     "slide_type": "slide"
    }
   },
   "source": [
    "## Array attributes\n",
    "\n",
    "<br>\n",
    "As part of the array structure, Numpy keeps track of metadata for the array as \"attributes\""
   ]
  },
  {
   "cell_type": "code",
   "execution_count": 11,
   "metadata": {
    "collapsed": true,
    "slideshow": {
     "slide_type": "-"
    }
   },
   "outputs": [],
   "source": [
    "# Taking \"a\" from the previous example\n",
    "a = np.linspace(-10, 10, 5) "
   ]
  },
  {
   "cell_type": "code",
   "execution_count": 12,
   "metadata": {
    "slideshow": {
     "slide_type": "-"
    }
   },
   "outputs": [
    {
     "name": "stdout",
     "output_type": "stream",
     "text": [
      "[-10.  -5.   0.   5.  10.]\n",
      "Dimensions  1\n",
      "Shape       (5,)\n",
      "Size        5\n",
      "Data type   float64\n"
     ]
    }
   ],
   "source": [
    "# Examine key array attributes\n",
    "print(a)\n",
    "print(\"Dimensions \", a.ndim)\n",
    "print(\"Shape      \", a.shape)  # number of elements in each dim\n",
    "print(\"Size       \", a.size)   # total number of elements\n",
    "print(\"Data type  \", a.dtype)  # data type of element e.g. 32 bit float"
   ]
  },
  {
   "cell_type": "markdown",
   "metadata": {},
   "source": [
    "Data type can be specified at creation:"
   ]
  },
  {
   "cell_type": "code",
   "execution_count": 13,
   "metadata": {
    "slideshow": {
     "slide_type": "-"
    }
   },
   "outputs": [
    {
     "name": "stdout",
     "output_type": "stream",
     "text": [
      "[ 1.10000002  2.20000005  3.29999995]\n",
      "Data type float32\n"
     ]
    }
   ],
   "source": [
    "a = np.array( [1.1,2.2,3.3], np.float32)\n",
    "print(a)\n",
    "print(\"Data type\", a.dtype)"
   ]
  },
  {
   "cell_type": "markdown",
   "metadata": {
    "slideshow": {
     "slide_type": "slide"
    }
   },
   "source": [
    "## Multi-dimensional arrays\n",
    "\n",
    "There are many different ways to create N-dimensional arrays. A two-dimensional array or matrix can be created from, e.g., list of lists"
   ]
  },
  {
   "cell_type": "code",
   "execution_count": 29,
   "metadata": {
    "slideshow": {
     "slide_type": "-"
    }
   },
   "outputs": [
    {
     "name": "stdout",
     "output_type": "stream",
     "text": [
      "[[1 2 3]\n",
      " [4 5 6]]\n",
      "Dimensions:  2\n",
      "Size:        6\n",
      "Shape:       (2, 3)\n"
     ]
    }
   ],
   "source": [
    "mat = np.array( [[1,2,3], [4,5,6]] )\n",
    "print(mat)\n",
    "print(\"Dimensions: \", mat.ndim)\n",
    "print(\"Size:       \", mat.size)\n",
    "print(\"Shape:      \", mat.shape)"
   ]
  },
  {
   "cell_type": "markdown",
   "metadata": {},
   "source": [
    "`pprint` can be used for fancier display of multi-dimensional arrays:"
   ]
  },
  {
   "cell_type": "code",
   "execution_count": 30,
   "metadata": {},
   "outputs": [
    {
     "name": "stdout",
     "output_type": "stream",
     "text": [
      "array([[1, 2, 3],\n",
      "       [4, 5, 6]])\n"
     ]
    }
   ],
   "source": [
    "from pprint import pprint\n",
    "\n",
    "pprint(mat)"
   ]
  },
  {
   "cell_type": "markdown",
   "metadata": {},
   "source": [
    "### <span style=\"color:blue\">Exercice </span>\n",
    "\n",
    "Work out the shape of the resulting arrays before executing the following cells <br>\n",
    "(HINT: length of the innermost list gives the size of the rightmost shape index)"
   ]
  },
  {
   "cell_type": "code",
   "execution_count": 15,
   "metadata": {
    "slideshow": {
     "slide_type": "-"
    }
   },
   "outputs": [
    {
     "name": "stdout",
     "output_type": "stream",
     "text": [
      "i (4, 3)\n"
     ]
    }
   ],
   "source": [
    "i = np.array( [[1,1,1], [2,2,2], [3,3,3], [4,4,4]] ) \n",
    "print(\"i\", i.shape)"
   ]
  },
  {
   "cell_type": "code",
   "execution_count": 16,
   "metadata": {
    "slideshow": {
     "slide_type": "-"
    }
   },
   "outputs": [
    {
     "name": "stdout",
     "output_type": "stream",
     "text": [
      "j (3, 4, 2)\n"
     ]
    }
   ],
   "source": [
    "j = np.array( [[[1,1],[2,2],[3,3],[4,4]] , [[1,1],[2,2],[3,3],[4,4]], [[1,1],[2,2],[3,3],[4,4]]] )\n",
    "print(\"j\", j.shape)"
   ]
  },
  {
   "cell_type": "markdown",
   "metadata": {},
   "source": [
    "Can create 2d arrays with complex elements by specifying the data type"
   ]
  },
  {
   "cell_type": "code",
   "execution_count": 17,
   "metadata": {
    "slideshow": {
     "slide_type": "-"
    }
   },
   "outputs": [
    {
     "name": "stdout",
     "output_type": "stream",
     "text": [
      "[[ 1.+0.j  2.+0.j  3.+0.j]\n",
      " [ 4.+0.j  5.+0.j  6.+0.j]]\n"
     ]
    }
   ],
   "source": [
    "alist = [[1, 2, 3], [4, 5, 6]]\n",
    "mat = np.array(alist, complex)\n",
    "pprint(mat)"
   ]
  },
  {
   "cell_type": "markdown",
   "metadata": {
    "slideshow": {
     "slide_type": "slide"
    }
   },
   "source": [
    "## Accessing arrays\n",
    "\n",
    "Basic indexing and slicing can be used to access array elements, as we know from lists"
   ]
  },
  {
   "cell_type": "code",
   "execution_count": 18,
   "metadata": {
    "scrolled": true,
    "slideshow": {
     "slide_type": "-"
    }
   },
   "outputs": [
    {
     "name": "stdout",
     "output_type": "stream",
     "text": [
      "a [0 1 2 3 4 5 6 7]\n",
      "a[0:7:2] [0 2 4 6]\n",
      "a[0::2] [0 2 4 6]\n"
     ]
    }
   ],
   "source": [
    "# a[start:stop:stride] (not inclusive of stop)\n",
    "a = np.arange(8)     # another function for creating arrays\n",
    "print(\"a\", a)\n",
    "print(\"a[0:7:2]\", a[0:7:2])\n",
    "print(\"a[0::2]\", a[0::2])"
   ]
  },
  {
   "cell_type": "markdown",
   "metadata": {},
   "source": [
    "Negative indices are valid!"
   ]
  },
  {
   "cell_type": "code",
   "execution_count": 19,
   "metadata": {},
   "outputs": [
    {
     "name": "stdout",
     "output_type": "stream",
     "text": [
      "7\n"
     ]
    }
   ],
   "source": [
    "# Useful for accessing the last element\n",
    "print(a[-1])"
   ]
  },
  {
   "cell_type": "markdown",
   "metadata": {},
   "source": [
    "### <span style=\"color:blue\">Exercice </span>\n",
    "\n",
    "Can you guess the output of the following cell?"
   ]
  },
  {
   "cell_type": "code",
   "execution_count": 22,
   "metadata": {
    "slideshow": {
     "slide_type": "-"
    }
   },
   "outputs": [
    {
     "name": "stdout",
     "output_type": "stream",
     "text": [
      "[2 4]\n"
     ]
    }
   ],
   "source": [
    "print(a[2:-3:2])"
   ]
  },
  {
   "cell_type": "markdown",
   "metadata": {
    "slideshow": {
     "slide_type": "subslide"
    }
   },
   "source": [
    "For multi-dimensional arrays, tuples or index notations can be used."
   ]
  },
  {
   "cell_type": "code",
   "execution_count": 23,
   "metadata": {
    "slideshow": {
     "slide_type": "-"
    }
   },
   "outputs": [
    {
     "name": "stdout",
     "output_type": "stream",
     "text": [
      "c[1][0][2]: 6\n",
      "c[1,0,2]: 6\n"
     ]
    }
   ],
   "source": [
    "# Basic indexing of a 3d array\n",
    "c = np.array([[[1,2],[3,4]],[[5,6],[7,8]]])\n",
    "print(\"c[1][0][2]:\", c[1][0][1]) # using index notation\n",
    "print(\"c[1,0,2]:\", c[1,0,1])     # using a tuple (more performant)"
   ]
  },
  {
   "cell_type": "markdown",
   "metadata": {},
   "source": [
    "If the number of indices given is less than the number of axes, missing axes are taken as complete slices"
   ]
  },
  {
   "cell_type": "code",
   "execution_count": 24,
   "metadata": {
    "slideshow": {
     "slide_type": "-"
    }
   },
   "outputs": [
    {
     "name": "stdout",
     "output_type": "stream",
     "text": [
      "[[5 6]\n",
      " [7 8]]\n",
      "[5 6]\n",
      "[5 6]\n"
     ]
    }
   ],
   "source": [
    "print(c[1]) \n",
    "print(c[1,0])   \n",
    "print(c[1,0,...]) # can use elipsis (3 dots) for missing indices"
   ]
  },
  {
   "cell_type": "markdown",
   "metadata": {
    "slideshow": {
     "slide_type": "subslide"
    }
   },
   "source": [
    "## Array copies\n",
    "\n",
    "Simple assignment creates references or 'shallow' copies of arrays"
   ]
  },
  {
   "cell_type": "code",
   "execution_count": 25,
   "metadata": {
    "slideshow": {
     "slide_type": "-"
    }
   },
   "outputs": [
    {
     "name": "stdout",
     "output_type": "stream",
     "text": [
      "a [-2  6  2]\n",
      "b points to a! [20  6  2]\n"
     ]
    }
   ],
   "source": [
    "a = np.array( [-2,6,2] )\n",
    "print(\"a\", a)\n",
    "b = a\n",
    "a[0]=20\n",
    "print(\"b points to a!\", b)"
   ]
  },
  {
   "cell_type": "markdown",
   "metadata": {},
   "source": [
    "Use `copy()` to create a true or 'deep' copy"
   ]
  },
  {
   "cell_type": "code",
   "execution_count": 26,
   "metadata": {},
   "outputs": [
    {
     "name": "stdout",
     "output_type": "stream",
     "text": [
      "[20  6  2]\n"
     ]
    }
   ],
   "source": [
    "c = a.copy()\n",
    "print(a)"
   ]
  },
  {
   "cell_type": "code",
   "execution_count": 27,
   "metadata": {},
   "outputs": [
    {
     "name": "stdout",
     "output_type": "stream",
     "text": [
      "c changes [0 6 2]\n",
      "a unaffected [20  6  2]\n"
     ]
    }
   ],
   "source": [
    "# check b really is an independent copy of a\n",
    "c[0]=0\n",
    "print(\"c changes\", c)\n",
    "print(\"a unaffected\", a)"
   ]
  },
  {
   "cell_type": "markdown",
   "metadata": {
    "slideshow": {
     "slide_type": "subslide"
    }
   },
   "source": [
    "## Slices and views\n",
    "\n",
    "A \"view\" is an array that refers to another array’s data (like references). You can create a view on an array by selecting a slice of an array. No data is copied when a view is created. "
   ]
  },
  {
   "cell_type": "code",
   "execution_count": 28,
   "metadata": {},
   "outputs": [
    {
     "name": "stdout",
     "output_type": "stream",
     "text": [
      "[[1 2 3]\n",
      " [4 5 6]\n",
      " [7 8 9]]\n"
     ]
    }
   ],
   "source": [
    "a = np.array([[1,2,3],[4,5,6],[7,8,9]]) \n",
    "pprint(a)"
   ]
  },
  {
   "cell_type": "code",
   "execution_count": 29,
   "metadata": {
    "slideshow": {
     "slide_type": "-"
    }
   },
   "outputs": [
    {
     "name": "stdout",
     "output_type": "stream",
     "text": [
      "[[8 9]]\n",
      "s [[-2 -2]]\n",
      "a [[ 1  2  3]\n",
      " [ 4  5  6]\n",
      " [ 7 -2 -2]]\n"
     ]
    }
   ],
   "source": [
    "# Can assign a slice to a variable and change the array referred to \n",
    "# by the slice\n",
    "s = a[2:3, 1:3]\n",
    "print(s)\n",
    "s[:,:] = -2\n",
    "print(\"s\", s)\n",
    "print(\"a\", a)"
   ]
  },
  {
   "cell_type": "markdown",
   "metadata": {},
   "source": [
    "### <span style=\"color:blue\">Exercice </span>\n",
    "\n",
    "Change all the elements with values 7,8,10,11 in matrix `m` below (i.e. bottom right corner elements) to 1000 using a slice"
   ]
  },
  {
   "cell_type": "code",
   "execution_count": 30,
   "metadata": {
    "collapsed": true,
    "slideshow": {
     "slide_type": "-"
    }
   },
   "outputs": [],
   "source": [
    "m = np.array([[0,1,2],[3,4,5],[6,7,8],[9,10,11]])"
   ]
  },
  {
   "cell_type": "markdown",
   "metadata": {
    "slideshow": {
     "slide_type": "slide"
    }
   },
   "source": [
    "## Reshaping arrays\n",
    "\n",
    "The shape of an array can be modified, and/or its size changed:"
   ]
  },
  {
   "cell_type": "code",
   "execution_count": 31,
   "metadata": {
    "slideshow": {
     "slide_type": "-"
    }
   },
   "outputs": [
    {
     "name": "stdout",
     "output_type": "stream",
     "text": [
      "a [0 1 2 3 4 5] , shape: (6,)\n",
      "[[0 1]\n",
      " [2 3]\n",
      " [4 5]]\n"
     ]
    }
   ],
   "source": [
    "a = np.arange(6)\n",
    "print(\"a\", a, \", shape:\", a.shape)\n",
    "# modifying the shape attribute (not a copy) requires\n",
    "# that the size remains the same\n",
    "a.shape = (3,2)\n",
    "pprint(a)"
   ]
  },
  {
   "cell_type": "code",
   "execution_count": 32,
   "metadata": {
    "slideshow": {
     "slide_type": "-"
    }
   },
   "outputs": [
    {
     "name": "stdout",
     "output_type": "stream",
     "text": [
      "[0 1 2 3 4 5]\n",
      "[[0 1]\n",
      " [2 3]\n",
      " [4 5]]\n"
     ]
    }
   ],
   "source": [
    "# Or can alter the size and shape of the array with resize().\n",
    "# May copy/pad depending on shape.\n",
    "mat = np.arange(6)\n",
    "print(mat)\n",
    "mat1 = np.resize(mat, (3, 2))\n",
    "print(mat1)"
   ]
  },
  {
   "cell_type": "markdown",
   "metadata": {},
   "source": [
    "`base` can be used to check if arrays share the same data (*i.e.* they are not copies):"
   ]
  },
  {
   "cell_type": "code",
   "execution_count": 33,
   "metadata": {},
   "outputs": [
    {
     "data": {
      "text/plain": [
       "False"
      ]
     },
     "execution_count": 33,
     "metadata": {},
     "output_type": "execute_result"
    }
   ],
   "source": [
    "mat1.base is mat"
   ]
  },
  {
   "cell_type": "markdown",
   "metadata": {},
   "source": [
    "### <span style=\"color:blue\">Exercice </span>\n",
    "\n",
    "What does the `reshape()` method do?"
   ]
  },
  {
   "cell_type": "markdown",
   "metadata": {
    "slideshow": {
     "slide_type": "subslide"
    }
   },
   "source": [
    "## Manipulating arrays\n",
    "\n",
    "There are many methods for manipulating arrays (reshaping, joining, splitting, inserting, ...). Check the documentation.\n",
    "\n",
    "E.g.,\n",
    "```python\n",
    "concatenate((a1,a2),axis=0)\n",
    "split(a, indices_or_sections, axis=0)\n",
    "flatten\n",
    "ravel(a)\n",
    "stack(arrays[, axis])\n",
    "tile(a, reps)\n",
    "repeat(a, repeats[, axis])\n",
    "unique(ar[, return_index, return_inverse, ...])\n",
    "trim_zeros(filt[, trim])\n",
    "fill(scalar)\n",
    "xv, yv = meshgrid(x,y)\n",
    "```"
   ]
  },
  {
   "cell_type": "markdown",
   "metadata": {
    "slideshow": {
     "slide_type": "-"
    }
   },
   "source": [
    "### <span style=\"color:blue\">Exercice </span>\n",
    "\n",
    "See what arrays you can create from some of the functions listed above."
   ]
  },
  {
   "cell_type": "markdown",
   "metadata": {
    "slideshow": {
     "slide_type": "subslide"
    }
   },
   "source": [
    "## Fancy indexing\n",
    "\n",
    "Advanced or fancy indexing lets you do more than simple indexing.\n"
   ]
  },
  {
   "cell_type": "code",
   "execution_count": 33,
   "metadata": {
    "slideshow": {
     "slide_type": "-"
    }
   },
   "outputs": [
    {
     "name": "stdout",
     "output_type": "stream",
     "text": [
      "array([[ 0,  1,  2],\n",
      "       [ 3,  4,  5],\n",
      "       [ 6,  7,  8],\n",
      "       [ 9, 10, 11]])\n"
     ]
    }
   ],
   "source": [
    "p = np.array([[0, 1, 2],[3, 4, 5],[6, 7,8],[9, 10, 11]]) \n",
    "pprint(p)"
   ]
  },
  {
   "cell_type": "code",
   "execution_count": 35,
   "metadata": {
    "slideshow": {
     "slide_type": "-"
    }
   },
   "outputs": [
    {
     "name": "stdout",
     "output_type": "stream",
     "text": [
      "[ 0  2  9 11]\n"
     ]
    }
   ],
   "source": [
    "rows = [0,0,3,3]   # indices for rows\n",
    "cols = [0,2,0,2]   # indices for columns\n",
    "q=p[rows,cols]\n",
    "print(q)"
   ]
  },
  {
   "cell_type": "markdown",
   "metadata": {},
   "source": [
    "Fancy indexing returns a copy (not a view like slicing)"
   ]
  },
  {
   "cell_type": "code",
   "execution_count": 36,
   "metadata": {},
   "outputs": [
    {
     "name": "stdout",
     "output_type": "stream",
     "text": [
      "[1000    2    9   11]\n",
      "[[ 0  1  2]\n",
      " [ 3  4  5]\n",
      " [ 6  7  8]\n",
      " [ 9 10 11]]\n"
     ]
    }
   ],
   "source": [
    "# ... check if a is a view or a copy\n",
    "q[0]=1000\n",
    "print(q)\n",
    "print(p)"
   ]
  },
  {
   "cell_type": "markdown",
   "metadata": {},
   "source": [
    "### <span style=\"color:blue\">Exercice </span>\n",
    "\n",
    "Use `base` to check whether `q` is a copy. Do the same for a simple indexed slice of `p` (e.g. `p[1:2,3:4]`)"
   ]
  },
  {
   "cell_type": "markdown",
   "metadata": {},
   "source": [
    "Logical expressions and boolean 'masks' can be used to find indices of elements of interest e.g."
   ]
  },
  {
   "cell_type": "code",
   "execution_count": 32,
   "metadata": {
    "slideshow": {
     "slide_type": "-"
    }
   },
   "outputs": [
    {
     "name": "stdout",
     "output_type": "stream",
     "text": [
      "[[  0  -1   4  20  99]\n",
      " [ -3  -5   6   7 -10]]\n",
      "[ -1  -3  -5 -10]\n"
     ]
    }
   ],
   "source": [
    "# Find indices of elements with value less than zero\n",
    "m = np.array( [[0,-1,4,20,99],[-3,-5,6,7,-10]] )\n",
    "print(m)\n",
    "print(m[ m < 0 ])"
   ]
  },
  {
   "cell_type": "markdown",
   "metadata": {},
   "source": [
    "### <span style=\"color:blue\">Exercice </span>\n",
    "\n",
    "Can you guess what the following code does?"
   ]
  },
  {
   "cell_type": "code",
   "execution_count": 38,
   "metadata": {
    "slideshow": {
     "slide_type": "-"
    }
   },
   "outputs": [
    {
     "name": "stdout",
     "output_type": "stream",
     "text": [
      "[0 1 2 3 4 5 6 7 8 9]\n",
      "[1 3 5 6 7 8 9]\n"
     ]
    }
   ],
   "source": [
    "a = np.arange(10)\n",
    "print(a)\n",
    "mask = np.ones(len(a), dtype=bool)\n",
    "mask[[0,2,4]] = False  # set certain mask values to False\n",
    "result = a[mask]\n",
    "print(result)"
   ]
  },
  {
   "cell_type": "markdown",
   "metadata": {
    "slideshow": {
     "slide_type": "slide"
    }
   },
   "source": [
    "## Vectorization\n",
    "\n",
    "Vectorization is why numpy arrays are great. It allows element-wise operations (avoids writing loops!). What output do the following cells give?"
   ]
  },
  {
   "cell_type": "code",
   "execution_count": 39,
   "metadata": {
    "slideshow": {
     "slide_type": "-"
    }
   },
   "outputs": [
    {
     "name": "stdout",
     "output_type": "stream",
     "text": [
      "[[0 1 2 3 4]\n",
      " [5 6 7 8 9]]\n"
     ]
    }
   ],
   "source": [
    "a = np.arange(10).reshape([2,5])\n",
    "b = np.arange(10).reshape([2,5])\n",
    "print(a)"
   ]
  },
  {
   "cell_type": "code",
   "execution_count": 40,
   "metadata": {
    "slideshow": {
     "slide_type": "-"
    }
   },
   "outputs": [
    {
     "name": "stdout",
     "output_type": "stream",
     "text": [
      "[[0 1 2 3 4]\n",
      " [5 6 7 8 9]]\n"
     ]
    },
    {
     "data": {
      "text/plain": [
       "array([[-0. , -0.1, -0.2, -0.3, -0.4],\n",
       "       [-0.5, -0.6, -0.7, -0.8, -0.9]])"
      ]
     },
     "execution_count": 40,
     "metadata": {},
     "output_type": "execute_result"
    }
   ],
   "source": [
    "# Try these\n",
    "print(a)\n",
    "-0.1*a"
   ]
  },
  {
   "cell_type": "code",
   "execution_count": 41,
   "metadata": {
    "slideshow": {
     "slide_type": "-"
    }
   },
   "outputs": [
    {
     "name": "stdout",
     "output_type": "stream",
     "text": [
      "[[0 1 2 3 4]\n",
      " [5 6 7 8 9]]\n"
     ]
    },
    {
     "data": {
      "text/plain": [
       "array([[ 0,  1,  4,  9, 16],\n",
       "       [25, 36, 49, 64, 81]])"
      ]
     },
     "execution_count": 41,
     "metadata": {},
     "output_type": "execute_result"
    }
   ],
   "source": [
    "# This is NOT matrix multiplication!\n",
    "print(b)\n",
    "a*b"
   ]
  },
  {
   "cell_type": "code",
   "execution_count": 42,
   "metadata": {},
   "outputs": [
    {
     "data": {
      "text/plain": [
       "array([[ 30,  80],\n",
       "       [ 80, 255]])"
      ]
     },
     "execution_count": 42,
     "metadata": {},
     "output_type": "execute_result"
    }
   ],
   "source": [
    "# Use dot product for vector/matrix multiplication\n",
    "# Note: .T gives you transpose of matrix i.e. reshapes it\n",
    "a.dot(b.T)"
   ]
  },
  {
   "cell_type": "markdown",
   "metadata": {},
   "source": [
    "Be careful: the type of data elements matters here!"
   ]
  },
  {
   "cell_type": "code",
   "execution_count": 43,
   "metadata": {
    "slideshow": {
     "slide_type": "-"
    }
   },
   "outputs": [
    {
     "data": {
      "text/plain": [
       "array([[ 0.        ,  0.5       ,  0.66666667,  0.75      ,  0.8       ],\n",
       "       [ 0.83333333,  0.85714286,  0.875     ,  0.88888889,  0.9       ]])"
      ]
     },
     "execution_count": 43,
     "metadata": {},
     "output_type": "execute_result"
    }
   ],
   "source": [
    "# What happens if the astype() is removed?\n",
    "a/(b+1).astype(float)"
   ]
  },
  {
   "cell_type": "markdown",
   "metadata": {},
   "source": [
    "TODO vectorial functions"
   ]
  },
  {
   "cell_type": "markdown",
   "metadata": {
    "slideshow": {
     "slide_type": "subslide"
    }
   },
   "source": [
    "## Random number generation\n",
    "\n",
    "Numpy provides utilities for random number generation"
   ]
  },
  {
   "cell_type": "code",
   "execution_count": 44,
   "metadata": {
    "slideshow": {
     "slide_type": "-"
    }
   },
   "outputs": [
    {
     "name": "stdout",
     "output_type": "stream",
     "text": [
      "[ 0.34298027  0.95353512  0.94101573  0.73076037  0.72792325  0.49527148\n",
      "  0.26444977  0.42343143  0.53403857  0.63199893]\n"
     ]
    }
   ],
   "source": [
    "# Create an array of 10 random real numbers\n",
    "a = np.random.ranf(10)\n",
    "print(a)"
   ]
  },
  {
   "cell_type": "code",
   "execution_count": 35,
   "metadata": {
    "slideshow": {
     "slide_type": "-"
    }
   },
   "outputs": [
    {
     "name": "stdout",
     "output_type": "stream",
     "text": [
      "array([[0, 0, 2, 3, 3],\n",
      "       [2, 4, 4, 1, 3],\n",
      "       [1, 4, 4, 3, 0],\n",
      "       [1, 0, 4, 2, 4],\n",
      "       [4, 0, 2, 3, 3]])\n"
     ]
    }
   ],
   "source": [
    "# Create a 2d array (5x5) reshaped matrix from a 1d array of (25) \n",
    "# random ints between 0 and 5 (not inclusize)\n",
    "a = np.random.randint(0,high=5,size=25).reshape(5,5)   \n",
    "pprint(a)"
   ]
  },
  {
   "cell_type": "code",
   "execution_count": 36,
   "metadata": {
    "slideshow": {
     "slide_type": "-"
    }
   },
   "outputs": [
    {
     "name": "stdout",
     "output_type": "stream",
     "text": [
      "array([[-0.2558764 ,  0.76394838,  1.07722432,  1.16084828, -0.83117795],\n",
      "       [ 0.77497709,  1.23189328, -0.1874253 ,  0.24820637, -0.97011273],\n",
      "       [-0.85919665, -0.24148584, -0.17873443, -0.74605644,  2.29053269],\n",
      "       [-0.14808253,  0.88667986,  1.03837945,  1.01601938,  0.14698667],\n",
      "       [-1.36096433, -0.25100077,  0.71543007, -3.55475024,  1.28398618]])\n"
     ]
    }
   ],
   "source": [
    "# Generate sample from normal distribution\n",
    "# (mean=0, standard deviation=1)\n",
    "s = np.random.standard_normal((5,5))\n",
    "pprint(s)"
   ]
  },
  {
   "cell_type": "markdown",
   "metadata": {
    "collapsed": true,
    "slideshow": {
     "slide_type": "-"
    }
   },
   "source": [
    "### <span style=\"color:blue\">Exercice </span>\n",
    "\n",
    "Explore other ways of generating random numbers. \n",
    "What other distributions can you sample? "
   ]
  },
  {
   "cell_type": "markdown",
   "metadata": {
    "slideshow": {
     "slide_type": "slide"
    }
   },
   "source": [
    "## File operations\n",
    "\n",
    "Numpy provides an easy way to save data to text file and to read *structured* data."
   ]
  },
  {
   "cell_type": "code",
   "execution_count": 47,
   "metadata": {
    "slideshow": {
     "slide_type": "-"
    }
   },
   "outputs": [
    {
     "name": "stdout",
     "output_type": "stream",
     "text": [
      "[0 1 2 3 4]\n",
      "[ 0.19162466  0.73623761  0.30105346  0.18839768  0.7311701 ]\n"
     ]
    }
   ],
   "source": [
    "# Generate an array of 5 random real numbers\n",
    "pts = 5\n",
    "x = np.arange(pts)\n",
    "y = np.random.random(pts)\n",
    "print(x)\n",
    "print(y)"
   ]
  },
  {
   "cell_type": "code",
   "execution_count": 48,
   "metadata": {},
   "outputs": [
    {
     "name": "stdout",
     "output_type": "stream",
     "text": [
      "# DATA\r\n",
      "0 0.1916\r\n",
      "1 0.7362\r\n",
      "2 0.3011\r\n",
      "3 0.1884\r\n",
      "4 0.7312\r\n",
      "# END\r\n"
     ]
    }
   ],
   "source": [
    "# data format specifiers: d = int, f = float, e = exponential\n",
    "np.savetxt('savedata.txt', np.stack((x,y),axis=1), header='DATA', \\\n",
    "           footer='END', fmt='%d %1.4f')\n",
    "!cat savedata.txt"
   ]
  },
  {
   "cell_type": "code",
   "execution_count": 49,
   "metadata": {
    "slideshow": {
     "slide_type": "-"
    }
   },
   "outputs": [
    {
     "name": "stdout",
     "output_type": "stream",
     "text": [
      "[[ 0.      0.1916]\n",
      " [ 1.      0.7362]\n",
      " [ 2.      0.3011]\n",
      " [ 3.      0.1884]\n",
      " [ 4.      0.7312]]\n"
     ]
    }
   ],
   "source": [
    "# Reload data to an array\n",
    "p = np.loadtxt('savedata.txt')\n",
    "print(p)"
   ]
  },
  {
   "cell_type": "markdown",
   "metadata": {},
   "source": [
    "More flexibility is offered with `genfromtext()`  (query `?np.genfromtext`)"
   ]
  },
  {
   "cell_type": "code",
   "execution_count": 50,
   "metadata": {
    "slideshow": {
     "slide_type": "-"
    }
   },
   "outputs": [
    {
     "name": "stdout",
     "output_type": "stream",
     "text": [
      "[[ 1.      0.7362]\n",
      " [ 2.      0.3011]\n",
      " [ 3.      0.1884]]\n"
     ]
    }
   ],
   "source": [
    "p = np.genfromtxt('savedata.txt', skip_header=2, skip_footer=1)\n",
    "print(p)"
   ]
  },
  {
   "cell_type": "markdown",
   "metadata": {
    "slideshow": {
     "slide_type": "-"
    }
   },
   "source": [
    "### <span style=\"color:blue\">Exercice </span>\n",
    "\n",
    "What do `numpy.save()` and `numpy.load()` do ?"
   ]
  },
  {
   "cell_type": "markdown",
   "metadata": {},
   "source": [
    " ## Linear algebra with numpy.linalg\n",
    " \n",
    "Numpy provides some linear algebra capabilities, from matric-vector product to matrix inversion and system solution"
   ]
  },
  {
   "cell_type": "markdown",
   "metadata": {},
   "source": [
    "Simple matrix vector product within numpy core:"
   ]
  },
  {
   "cell_type": "code",
   "execution_count": 24,
   "metadata": {},
   "outputs": [
    {
     "name": "stdout",
     "output_type": "stream",
     "text": [
      "[ 8 20 31]\n"
     ]
    }
   ],
   "source": [
    "A = np.array([[1,2,3],[4,5,6],[7,8,8]])\n",
    "b = np.array([1,2,1])\n",
    "\n",
    "print(np.dot(A,b))"
   ]
  },
  {
   "cell_type": "markdown",
   "metadata": {},
   "source": [
    "The `numpy.linalg` module is necessary for more complex operations."
   ]
  },
  {
   "cell_type": "code",
   "execution_count": 15,
   "metadata": {
    "collapsed": true
   },
   "outputs": [],
   "source": [
    "import numpy.linalg as la"
   ]
  },
  {
   "cell_type": "markdown",
   "metadata": {},
   "source": [
    "Usual quantities can be computed from arrays:"
   ]
  },
  {
   "cell_type": "code",
   "execution_count": 25,
   "metadata": {},
   "outputs": [
    {
     "name": "stdout",
     "output_type": "stream",
     "text": [
      "2.44948974278\n",
      "16.3707055437\n",
      "3.0\n"
     ]
    }
   ],
   "source": [
    "n = la.norm(b)\n",
    "print(n)\n",
    "\n",
    "n = la.norm(A)\n",
    "print(n)\n",
    "\n",
    "d = la.det(A)\n",
    "print(d)"
   ]
  },
  {
   "cell_type": "markdown",
   "metadata": {},
   "source": [
    "And it is possible to solve linear systems, using low level C/Fortran code:"
   ]
  },
  {
   "cell_type": "code",
   "execution_count": 26,
   "metadata": {},
   "outputs": [
    {
     "data": {
      "text/plain": [
       "array([ 1.66666667, -3.33333333,  2.        ])"
      ]
     },
     "execution_count": 26,
     "metadata": {},
     "output_type": "execute_result"
    }
   ],
   "source": [
    "la.solve(A,b)"
   ]
  },
  {
   "cell_type": "markdown",
   "metadata": {},
   "source": [
    "or to invert matrices (which is generally not a good thing to do!)"
   ]
  },
  {
   "cell_type": "code",
   "execution_count": 27,
   "metadata": {
    "collapsed": true
   },
   "outputs": [],
   "source": [
    "A_inv = la.inv(A)\n",
    "print(A_inv)"
   ]
  },
  {
   "cell_type": "markdown",
   "metadata": {},
   "source": [
    "The eigen decomposition (of a square matrix) can also be computed:"
   ]
  },
  {
   "cell_type": "code",
   "execution_count": 41,
   "metadata": {},
   "outputs": [
    {
     "name": "stdout",
     "output_type": "stream",
     "text": [
      "[ 15.55528261  -1.41940876  -0.13587385]\n",
      "array([[-0.24043423, -0.67468642,  0.51853459],\n",
      "       [-0.54694322, -0.23391616, -0.78895962],\n",
      "       [-0.80190056,  0.70005819,  0.32964312]])\n"
     ]
    }
   ],
   "source": [
    "eival, eivec = la.eig(A)\n",
    "print(eival)\n",
    "pprint(eivec)"
   ]
  },
  {
   "cell_type": "markdown",
   "metadata": {
    "slideshow": {
     "slide_type": "slide"
    }
   },
   "source": [
    "## Performance\n",
    "\n",
    "Python has a convenient timing function called `timeit`.\n",
    "\n",
    "Can use this to measure the execution time of small code snippets.\n",
    "\n",
    "* From python: `import timeit` and supply code  snippet as a string\n",
    "* From ipython: can use magic command `%timeit`\n",
    "\n",
    "By default, `%timeit` loops (repeats) over your code 3 times and outputs the best time. It also tells you how many iterations it ran the code per loop. \n",
    "You can specify the number of loops and the number of iterations per loop.\n",
    "```\n",
    "%timeit -n <iterations> -r <repeats>  <code_snippet>\n",
    "```\n",
    "\n",
    "See\n",
    "\n",
    "* `%timeit?` for more information\n",
    "* https://docs.python.org/2/library/timeit.html\n"
   ]
  },
  {
   "cell_type": "markdown",
   "metadata": {
    "slideshow": {
     "slide_type": "subslide"
    }
   },
   "source": [
    "### <span style=\"color:blue\">Exercice </span>\n",
    "\n",
    "Here are some `timeit` experiments for you to try. Which methods are faster?"
   ]
  },
  {
   "cell_type": "code",
   "execution_count": 42,
   "metadata": {
    "slideshow": {
     "slide_type": "-"
    }
   },
   "outputs": [
    {
     "name": "stdout",
     "output_type": "stream",
     "text": [
      "253 ns ± 11.8 ns per loop (mean ± std. dev. of 3 runs, 10000000 loops each)\n",
      "108 ns ± 7.37 ns per loop (mean ± std. dev. of 3 runs, 10000000 loops each)\n"
     ]
    }
   ],
   "source": [
    "# Accessing a 2d array\n",
    "nd = np.arange(100).reshape((10,10))\n",
    "\n",
    "# accessing element of 2d array\n",
    "%timeit -n 10000000 -r 3 nd[5][5]\n",
    "%timeit -n 10000000 -r 3 nd[5,5]"
   ]
  },
  {
   "cell_type": "code",
   "execution_count": 43,
   "metadata": {
    "slideshow": {
     "slide_type": "-"
    }
   },
   "outputs": [
    {
     "name": "stdout",
     "output_type": "stream",
     "text": [
      "424 ms ± 20.7 ms per loop (mean ± std. dev. of 10 runs, 1 loop each)\n",
      "417 ms ± 9.61 ms per loop (mean ± std. dev. of 10 runs, 1 loop each)\n"
     ]
    }
   ],
   "source": [
    "# Multiplying two vectors\n",
    "x = np.arange(10E7)\n",
    "%timeit -n 1 -r 10 x*x\n",
    "%timeit -n 1 -r 10 x**2"
   ]
  },
  {
   "cell_type": "code",
   "execution_count": 46,
   "metadata": {
    "slideshow": {
     "slide_type": "-"
    }
   },
   "outputs": [
    {
     "name": "stdout",
     "output_type": "stream",
     "text": [
      "277 ms ± 32.3 ms per loop (mean ± std. dev. of 7 runs, 1 loop each)\n",
      "166 ms ± 4.1 ms per loop (mean ± std. dev. of 7 runs, 1 loop each)\n",
      "5.49 ms ± 136 µs per loop (mean ± std. dev. of 7 runs, 100 loops each)\n"
     ]
    }
   ],
   "source": [
    "# Comparing range functions and iterating in loops\n",
    "# Note: some distributions may see overflow in range() example\n",
    "\n",
    "size = int(1E6)\n",
    "\n",
    "%timeit for x in range(size): x**2\n",
    "\n",
    "%timeit for x in np.arange(size): x**2\n",
    "\n",
    "%timeit np.arange(size)**2"
   ]
  },
  {
   "cell_type": "code",
   "execution_count": 48,
   "metadata": {},
   "outputs": [
    {
     "name": "stdout",
     "output_type": "stream",
     "text": [
      "101 ms ± 21.1 ms per loop (mean ± std. dev. of 10 runs, 1 loop each)\n"
     ]
    }
   ],
   "source": [
    "# Extra : from the linear algebra package\n",
    "%timeit -n 1 -r 10 np.dot(x,x)"
   ]
  },
  {
   "cell_type": "markdown",
   "metadata": {},
   "source": [
    " "
   ]
  },
  {
   "cell_type": "markdown",
   "metadata": {},
   "source": [
    "# SciPy library:"
   ]
  },
  {
   "cell_type": "markdown",
   "metadata": {},
   "source": [
    "It provides a wide range of user-friendly routines (often built on NumPy) needed in scientific work. It is organised in several sub-modules:\n",
    "  * scipy.constants\n",
    "  * scipy.special\n",
    "  * scipy.io\n",
    "  * scipy.linalg\n",
    "  * scipy.sparse\n",
    "  * scipy.integrate\n",
    "  * scipy.interpolate\n",
    "  * scipy.stats\n",
    "  * scipy.cluster\n",
    "  * scipy.odr\n",
    "  * scipy.optimize\n",
    "  * scipy.signal\n",
    "  * scipy.fftpack\n",
    "  * scipy.ndimage\n",
    "  * scipy.spatial"
   ]
  },
  {
   "cell_type": "markdown",
   "metadata": {},
   "source": [
    "### Linear algebra\n",
    "\n",
    "`scipy.linalg` contains some extra routines compared to `numpy.linalg`"
   ]
  },
  {
   "cell_type": "code",
   "execution_count": 51,
   "metadata": {
    "collapsed": true
   },
   "outputs": [],
   "source": [
    "import scipy.linalg as sla"
   ]
  },
  {
   "cell_type": "markdown",
   "metadata": {},
   "source": [
    "Construct an orthonormal basis for the range of A using its SVD:"
   ]
  },
  {
   "cell_type": "code",
   "execution_count": 50,
   "metadata": {},
   "outputs": [
    {
     "name": "stdout",
     "output_type": "stream",
     "text": [
      "[[ -5.77350269e-01   8.16496581e-01  -5.04179082e-17]\n",
      " [ -5.77350269e-01  -4.08248290e-01  -7.07106781e-01]\n",
      " [ -5.77350269e-01  -4.08248290e-01   7.07106781e-01]]\n"
     ]
    }
   ],
   "source": [
    "A = np.array([[2,1,1],[1,2,1],[1,1,2]])\n",
    "b = np.array([1,2,3])\n",
    "\n",
    "orth_basis = sla.orth(A)\n",
    "pprint(orth_basis)"
   ]
  },
  {
   "cell_type": "markdown",
   "metadata": {},
   "source": [
    "Compute the Schur decomposition of a matrix:"
   ]
  },
  {
   "cell_type": "code",
   "execution_count": 60,
   "metadata": {},
   "outputs": [
    {
     "name": "stdout",
     "output_type": "stream",
     "text": [
      "array([[ 2.65896708,  1.42440458, -1.92933439],\n",
      "       [ 0.        , -0.32948354, -0.49063704],\n",
      "       [ 0.        ,  1.31178921, -0.32948354]])\n",
      "array([[ 0.72711591, -0.60156188,  0.33079564],\n",
      "       [ 0.52839428,  0.79801892,  0.28976765],\n",
      "       [ 0.43829436,  0.03590414, -0.89811411]])\n",
      "A == Z.T.Z^t:  True\n"
     ]
    }
   ],
   "source": [
    "A = np.array([[0, 2, 2], [0, 1, 2], [1, 0, 1]])\n",
    "T, Z = sla.schur(A)\n",
    "pprint(T)\n",
    "pprint(Z)\n",
    "print(\"A == Z.T.Z^t: \", np.allclose(A, Z.dot(T).dot(Z.transpose())))"
   ]
  },
  {
   "cell_type": "markdown",
   "metadata": {},
   "source": [
    "### Integration\n",
    "\n",
    "`scipy.integrate` contains routines to intgrate expressions as well as discrete data:"
   ]
  },
  {
   "cell_type": "code",
   "execution_count": 61,
   "metadata": {
    "collapsed": true
   },
   "outputs": [],
   "source": [
    "import scipy.integrate as sint"
   ]
  },
  {
   "cell_type": "code",
   "execution_count": 63,
   "metadata": {},
   "outputs": [
    {
     "data": {
      "text/plain": [
       "(21.333333333333336, 2.368475785867001e-13)"
      ]
     },
     "execution_count": 63,
     "metadata": {},
     "output_type": "execute_result"
    }
   ],
   "source": [
    "x2 = lambda x: x**2\n",
    "sint.quad(x2, 0, 4)"
   ]
  },
  {
   "cell_type": "code",
   "execution_count": 68,
   "metadata": {},
   "outputs": [
    {
     "data": {
      "text/plain": [
       "40.5"
      ]
     },
     "execution_count": 68,
     "metadata": {},
     "output_type": "execute_result"
    }
   ],
   "source": [
    "x = np.arange(0, 10)\n",
    "y = np.arange(0, 10)\n",
    "y = np.power(x, 1)\n",
    "sint.simps(y, x)"
   ]
  },
  {
   "cell_type": "markdown",
   "metadata": {},
   "source": [
    "### Interpolation\n",
    "\n",
    "`scipy.interpolate` provides functions to interpolate data (regression, curve fitting, etc)"
   ]
  },
  {
   "cell_type": "code",
   "execution_count": 69,
   "metadata": {
    "collapsed": true
   },
   "outputs": [],
   "source": [
    "import scipy.interpolate as sitp"
   ]
  },
  {
   "cell_type": "code",
   "execution_count": null,
   "metadata": {
    "collapsed": true
   },
   "outputs": [],
   "source": []
  },
  {
   "cell_type": "code",
   "execution_count": null,
   "metadata": {
    "collapsed": true
   },
   "outputs": [],
   "source": []
  },
  {
   "cell_type": "markdown",
   "metadata": {},
   "source": [
    "### Special functions\n",
    "\n",
    "`scipy.specials` provides a certain number of useful mathematical functions: Airy functions, Bessel functions, elliptic integrals, gamma function, erf, binomial law, etc. "
   ]
  },
  {
   "cell_type": "markdown",
   "metadata": {},
   "source": [
    "# To take home\n",
    "\n",
    "  * `NumPy`: defines `nd.array` which is an efficient structure for large arrays, matrices and tensors, and functions to manipulate them\n",
    "  * `SciPy`: defines a lot of user-friendly routines useful for scientific codes\n",
    "  * Both rely on efficient low level code, and will generally be much faster than if you try to re-implement them yourself\n",
    "  * Refer to online documentation for a complete list of features: https://docs.scipy.org/doc/"
   ]
  },
  {
   "cell_type": "code",
   "execution_count": null,
   "metadata": {
    "collapsed": true
   },
   "outputs": [],
   "source": []
  }
 ],
 "metadata": {
  "anaconda-cloud": {},
  "celltoolbar": "Raw Cell Format",
  "kernelspec": {
   "display_name": "Python 3",
   "language": "python",
   "name": "python3"
  },
  "language_info": {
   "codemirror_mode": {
    "name": "ipython",
    "version": 3
   },
   "file_extension": ".py",
   "mimetype": "text/x-python",
   "name": "python",
   "nbconvert_exporter": "python",
   "pygments_lexer": "ipython3",
   "version": "3.5.2"
  }
 },
 "nbformat": 4,
 "nbformat_minor": 1
}
